{
  "nbformat": 4,
  "nbformat_minor": 0,
  "metadata": {
    "kernelspec": {
      "language": "python",
      "display_name": "Python 3",
      "name": "python3"
    },
    "language_info": {
      "name": "python",
      "version": "3.7.10",
      "mimetype": "text/x-python",
      "codemirror_mode": {
        "name": "ipython",
        "version": 3
      },
      "pygments_lexer": "ipython3",
      "nbconvert_exporter": "python",
      "file_extension": ".py"
    },
    "colab": {
      "name": "CelebA-Adience_transfer_learning.ipynb",
      "provenance": []
    }
  },
  "cells": [
    {
      "cell_type": "code",
      "metadata": {
        "_uuid": "8f2839f25d086af736a60e9eeb907d3b93b6e0e5",
        "_cell_guid": "b1076dfc-b9ad-4769-8c92-a6c4dae69d19",
        "execution": {
          "iopub.status.busy": "2021-11-14T18:37:33.210497Z",
          "iopub.execute_input": "2021-11-14T18:37:33.211003Z",
          "iopub.status.idle": "2021-11-14T18:37:33.248170Z",
          "shell.execute_reply.started": "2021-11-14T18:37:33.210897Z",
          "shell.execute_reply": "2021-11-14T18:37:33.247438Z"
        },
        "trusted": true,
        "id": "NaDy465p0ngf",
        "outputId": "b5c0db00-cd98-4ac1-e808-fa0022b88335"
      },
      "source": [
        "# This Python 3 environment comes with many helpful analytics libraries installed\n",
        "# It is defined by the kaggle/python Docker image: https://github.com/kaggle/docker-python\n",
        "# For example, here's several helpful packages to load\n",
        "\n",
        "import numpy as np # linear algebra\n",
        "import pandas as pd # data processing, CSV file I/O (e.g. pd.read_csv)\n",
        "\n",
        "# Input data files are available in the read-only \"../input/\" directory\n",
        "# For example, running this (by clicking run or pressing Shift+Enter) will list all files under the input directory\n",
        "\n",
        "import os\n",
        "for dirname, _, filenames in os.walk('/kaggle/input'):\n",
        "    for filename in filenames:\n",
        "        print(os.path.join(dirname, filename))\n",
        "\n",
        "# You can write up to 20GB to the current directory (/kaggle/working/) that gets preserved as output when you create a version using \"Save & Run All\" \n",
        "# You can also write temporary files to /kaggle/temp/, but they won't be saved outside of the current session"
      ],
      "execution_count": null,
      "outputs": [
        {
          "name": "stdout",
          "text": "/kaggle/input/celeba/celebA_after_activation.h5\n/kaggle/input/celeba/celebA_after_activation.pkl\n/kaggle/input/aidence-data/train_images_np.pkl\n/kaggle/input/aidence-data/test_images_np.pkl\n/kaggle/input/adienceyage/y_age_test_one_hot.pkl\n/kaggle/input/adienceyage/y_age_train_one_hot.pkl\n/kaggle/input/adience-y/y_train_np.pkl\n/kaggle/input/adience-y/y_test_np.pkl\n",
          "output_type": "stream"
        }
      ]
    },
    {
      "cell_type": "code",
      "metadata": {
        "execution": {
          "iopub.status.busy": "2021-11-14T18:37:33.365085Z",
          "iopub.execute_input": "2021-11-14T18:37:33.365680Z",
          "iopub.status.idle": "2021-11-14T18:37:37.753676Z",
          "shell.execute_reply.started": "2021-11-14T18:37:33.365647Z",
          "shell.execute_reply": "2021-11-14T18:37:37.752843Z"
        },
        "trusted": true,
        "id": "8scRyhDE0ngi"
      },
      "source": [
        "from tensorflow import keras\n",
        "\n",
        "import tensorflow as tf\n",
        "import pandas as pd\n",
        "import PIL\n",
        "import PIL.Image\n",
        "import numpy as np\n",
        "import pickle\n",
        "import matplotlib.pyplot as plt\n",
        "from keras.utils import np_utils\n",
        "from keras.models import load_model\n",
        "from keras.models import Model\n",
        "from tensorflow.keras.models import Sequential\n",
        "from keras.layers.core import Dropout, Activation\n",
        "from tensorflow.keras import layers"
      ],
      "execution_count": null,
      "outputs": []
    },
    {
      "cell_type": "markdown",
      "metadata": {
        "id": "8Cn-7WyP0ngi"
      },
      "source": [
        "## Import Adience numpy array"
      ]
    },
    {
      "cell_type": "code",
      "metadata": {
        "execution": {
          "iopub.status.busy": "2021-11-14T18:37:42.293247Z",
          "iopub.execute_input": "2021-11-14T18:37:42.293522Z",
          "iopub.status.idle": "2021-11-14T18:38:08.389112Z",
          "shell.execute_reply.started": "2021-11-14T18:37:42.293489Z",
          "shell.execute_reply": "2021-11-14T18:38:08.388258Z"
        },
        "trusted": true,
        "id": "flUr5f2b0ngj",
        "outputId": "f52b324a-01ca-4c20-8e06-32b0a9919d3e"
      },
      "source": [
        "import pickle\n",
        "\n",
        "path = '/kaggle/input/aidence-data/'\n",
        "with open(path + 'train_images_np.pkl','rb') as f:\n",
        "     train_images = pickle.load(f)\n",
        "\n",
        "with open(path + 'test_images_np.pkl','rb') as f:\n",
        "     test_images = pickle.load(f)\n",
        "        \n",
        "        \n",
        "path = '/kaggle/input/adience-y/'\n",
        "with open(path + 'y_train_np.pkl','rb') as f:\n",
        "     y_train_one_hot = pickle.load(f)\n",
        "\n",
        "with open(path + 'y_test_np.pkl','rb') as f:\n",
        "     y_test_one_hot = pickle.load(f)\n",
        "        \n",
        "path = '/kaggle/input/adienceyage/'\n",
        "with open(path + 'y_age_train_one_hot.pkl','rb') as f:\n",
        "     y_age_train_np = pickle.load(f)\n",
        "\n",
        "with open(path + 'y_age_test_one_hot.pkl','rb') as f:\n",
        "     y_age_test_np = pickle.load(f)\n",
        "\n",
        "print(train_images.shape)\n",
        "print(test_images.shape)\n",
        "print(y_train_one_hot.shape)\n",
        "print(y_test_one_hot.shape)\n",
        "print(y_age_train_np.shape)\n",
        "print(y_age_test_np.shape)"
      ],
      "execution_count": null,
      "outputs": [
        {
          "name": "stdout",
          "text": "(12216, 227, 227, 3)\n(5236, 227, 227, 3)\n(12216, 2)\n(5236, 2)\n(12216, 8)\n(5236, 8)\n",
          "output_type": "stream"
        }
      ]
    },
    {
      "cell_type": "markdown",
      "metadata": {
        "id": "6toRNGpa0ngk"
      },
      "source": [
        "## Transfer Learning"
      ]
    },
    {
      "cell_type": "markdown",
      "metadata": {
        "id": "jvbNT0nP0ngk"
      },
      "source": [
        "### Load Pre-trained model and remove last layer"
      ]
    },
    {
      "cell_type": "code",
      "metadata": {
        "execution": {
          "iopub.status.busy": "2021-11-14T18:38:08.390697Z",
          "iopub.execute_input": "2021-11-14T18:38:08.391499Z",
          "iopub.status.idle": "2021-11-14T18:38:23.225405Z",
          "shell.execute_reply.started": "2021-11-14T18:38:08.391452Z",
          "shell.execute_reply": "2021-11-14T18:38:23.224503Z"
        },
        "trusted": true,
        "id": "RE36SYg20ngk",
        "outputId": "40831dcf-d370-4c0c-813b-608a1e8c8dad"
      },
      "source": [
        "model_path = '/kaggle/input/celeba/celebA_after_activation.h5'\n",
        "\n",
        "base_model = load_model(model_path)\n",
        "\n",
        "base_model_no_top = Model(base_model.input, base_model.layers[-2].output)\n",
        "base_model_no_top.summary()"
      ],
      "execution_count": null,
      "outputs": [
        {
          "name": "stderr",
          "text": "2021-11-14 18:38:08.503626: I tensorflow/stream_executor/cuda/cuda_gpu_executor.cc:937] successful NUMA node read from SysFS had negative value (-1), but there must be at least one NUMA node, so returning NUMA node zero\n2021-11-14 18:38:08.599134: I tensorflow/stream_executor/cuda/cuda_gpu_executor.cc:937] successful NUMA node read from SysFS had negative value (-1), but there must be at least one NUMA node, so returning NUMA node zero\n2021-11-14 18:38:08.599843: I tensorflow/stream_executor/cuda/cuda_gpu_executor.cc:937] successful NUMA node read from SysFS had negative value (-1), but there must be at least one NUMA node, so returning NUMA node zero\n2021-11-14 18:38:08.601748: I tensorflow/core/platform/cpu_feature_guard.cc:142] This TensorFlow binary is optimized with oneAPI Deep Neural Network Library (oneDNN) to use the following CPU instructions in performance-critical operations:  AVX2 AVX512F FMA\nTo enable them in other operations, rebuild TensorFlow with the appropriate compiler flags.\n2021-11-14 18:38:08.603088: I tensorflow/stream_executor/cuda/cuda_gpu_executor.cc:937] successful NUMA node read from SysFS had negative value (-1), but there must be at least one NUMA node, so returning NUMA node zero\n2021-11-14 18:38:08.603783: I tensorflow/stream_executor/cuda/cuda_gpu_executor.cc:937] successful NUMA node read from SysFS had negative value (-1), but there must be at least one NUMA node, so returning NUMA node zero\n2021-11-14 18:38:08.604416: I tensorflow/stream_executor/cuda/cuda_gpu_executor.cc:937] successful NUMA node read from SysFS had negative value (-1), but there must be at least one NUMA node, so returning NUMA node zero\n2021-11-14 18:38:10.575832: I tensorflow/stream_executor/cuda/cuda_gpu_executor.cc:937] successful NUMA node read from SysFS had negative value (-1), but there must be at least one NUMA node, so returning NUMA node zero\n2021-11-14 18:38:10.576574: I tensorflow/stream_executor/cuda/cuda_gpu_executor.cc:937] successful NUMA node read from SysFS had negative value (-1), but there must be at least one NUMA node, so returning NUMA node zero\n2021-11-14 18:38:10.577287: I tensorflow/stream_executor/cuda/cuda_gpu_executor.cc:937] successful NUMA node read from SysFS had negative value (-1), but there must be at least one NUMA node, so returning NUMA node zero\n2021-11-14 18:38:10.577919: I tensorflow/core/common_runtime/gpu/gpu_device.cc:1510] Created device /job:localhost/replica:0/task:0/device:GPU:0 with 15403 MB memory:  -> device: 0, name: Tesla P100-PCIE-16GB, pci bus id: 0000:00:04.0, compute capability: 6.0\n",
          "output_type": "stream"
        },
        {
          "name": "stdout",
          "text": "Model: \"model\"\n_________________________________________________________________\nLayer (type)                 Output Shape              Param #   \n=================================================================\nconv2d_input (InputLayer)    [(None, 227, 227, 3)]     0         \n_________________________________________________________________\nconv2d (Conv2D)              (None, 221, 221, 96)      14208     \n_________________________________________________________________\nbatch_normalization (BatchNo (None, 221, 221, 96)      384       \n_________________________________________________________________\nmax_pooling2d (MaxPooling2D) (None, 110, 110, 96)      0         \n_________________________________________________________________\nconv2d_1 (Conv2D)            (None, 106, 106, 256)     614656    \n_________________________________________________________________\nbatch_normalization_1 (Batch (None, 106, 106, 256)     1024      \n_________________________________________________________________\nmax_pooling2d_1 (MaxPooling2 (None, 52, 52, 256)       0         \n_________________________________________________________________\nconv2d_2 (Conv2D)            (None, 50, 50, 384)       885120    \n_________________________________________________________________\nbatch_normalization_2 (Batch (None, 50, 50, 384)       1536      \n_________________________________________________________________\nmax_pooling2d_2 (MaxPooling2 (None, 24, 24, 384)       0         \n_________________________________________________________________\nflatten (Flatten)            (None, 221184)            0         \n_________________________________________________________________\ndense (Dense)                (None, 512)               113246720 \n_________________________________________________________________\ndropout (Dropout)            (None, 512)               0         \n_________________________________________________________________\ndense_1 (Dense)              (None, 512)               262656    \n_________________________________________________________________\ndropout_1 (Dropout)          (None, 512)               0         \n=================================================================\nTotal params: 115,026,304\nTrainable params: 115,024,832\nNon-trainable params: 1,472\n_________________________________________________________________\n",
          "output_type": "stream"
        }
      ]
    },
    {
      "cell_type": "markdown",
      "metadata": {
        "id": "kq-1H-0S0ngl"
      },
      "source": [
        "### Freeze the first 7 layers"
      ]
    },
    {
      "cell_type": "code",
      "metadata": {
        "execution": {
          "iopub.status.busy": "2021-11-14T18:38:23.228544Z",
          "iopub.execute_input": "2021-11-14T18:38:23.228799Z",
          "iopub.status.idle": "2021-11-14T18:38:23.233526Z",
          "shell.execute_reply.started": "2021-11-14T18:38:23.228767Z",
          "shell.execute_reply": "2021-11-14T18:38:23.232713Z"
        },
        "trusted": true,
        "id": "kwPCGGKi0ngl"
      },
      "source": [
        "# Fine-tune from this layer onwards\n",
        "fine_tune_at = 7\n",
        "\n",
        "# Freeze all the layers before the `fine_tune_at` layer\n",
        "for layer in base_model_no_top.layers[:fine_tune_at]:\n",
        "  layer.trainable =  False"
      ],
      "execution_count": null,
      "outputs": []
    },
    {
      "cell_type": "code",
      "metadata": {
        "execution": {
          "iopub.status.busy": "2021-11-14T18:38:23.236138Z",
          "iopub.execute_input": "2021-11-14T18:38:23.236709Z",
          "iopub.status.idle": "2021-11-14T18:38:23.256790Z",
          "shell.execute_reply.started": "2021-11-14T18:38:23.236657Z",
          "shell.execute_reply": "2021-11-14T18:38:23.255777Z"
        },
        "trusted": true,
        "id": "aCsj1lCB0ngm",
        "outputId": "7ae5a860-a962-46b3-8ddc-a823cbcbcdb1"
      },
      "source": [
        "# Let's take a look at the base model architecture\n",
        "base_model_no_top.summary()"
      ],
      "execution_count": null,
      "outputs": [
        {
          "name": "stdout",
          "text": "Model: \"model\"\n_________________________________________________________________\nLayer (type)                 Output Shape              Param #   \n=================================================================\nconv2d_input (InputLayer)    [(None, 227, 227, 3)]     0         \n_________________________________________________________________\nconv2d (Conv2D)              (None, 221, 221, 96)      14208     \n_________________________________________________________________\nbatch_normalization (BatchNo (None, 221, 221, 96)      384       \n_________________________________________________________________\nmax_pooling2d (MaxPooling2D) (None, 110, 110, 96)      0         \n_________________________________________________________________\nconv2d_1 (Conv2D)            (None, 106, 106, 256)     614656    \n_________________________________________________________________\nbatch_normalization_1 (Batch (None, 106, 106, 256)     1024      \n_________________________________________________________________\nmax_pooling2d_1 (MaxPooling2 (None, 52, 52, 256)       0         \n_________________________________________________________________\nconv2d_2 (Conv2D)            (None, 50, 50, 384)       885120    \n_________________________________________________________________\nbatch_normalization_2 (Batch (None, 50, 50, 384)       1536      \n_________________________________________________________________\nmax_pooling2d_2 (MaxPooling2 (None, 24, 24, 384)       0         \n_________________________________________________________________\nflatten (Flatten)            (None, 221184)            0         \n_________________________________________________________________\ndense (Dense)                (None, 512)               113246720 \n_________________________________________________________________\ndropout (Dropout)            (None, 512)               0         \n_________________________________________________________________\ndense_1 (Dense)              (None, 512)               262656    \n_________________________________________________________________\ndropout_1 (Dropout)          (None, 512)               0         \n=================================================================\nTotal params: 115,026,304\nTrainable params: 114,395,264\nNon-trainable params: 631,040\n_________________________________________________________________\n",
          "output_type": "stream"
        }
      ]
    },
    {
      "cell_type": "code",
      "metadata": {
        "execution": {
          "iopub.status.busy": "2021-11-14T18:38:23.258179Z",
          "iopub.execute_input": "2021-11-14T18:38:23.258444Z",
          "iopub.status.idle": "2021-11-14T18:38:23.308106Z",
          "shell.execute_reply.started": "2021-11-14T18:38:23.258411Z",
          "shell.execute_reply": "2021-11-14T18:38:23.307398Z"
        },
        "trusted": true,
        "id": "WNgZ0dm60ngm"
      },
      "source": [
        "inputs = tf.keras.Input(shape=(227, 227, 3))\n",
        "x = base_model_no_top(inputs, training=False)\n",
        "prediction_layer = layers.Dense(2, activation='softmax', name='dense2')\n",
        "outputs = prediction_layer(x)"
      ],
      "execution_count": null,
      "outputs": []
    },
    {
      "cell_type": "code",
      "metadata": {
        "execution": {
          "iopub.status.busy": "2021-11-14T18:38:23.309200Z",
          "iopub.execute_input": "2021-11-14T18:38:23.309474Z",
          "iopub.status.idle": "2021-11-14T18:38:23.317216Z",
          "shell.execute_reply.started": "2021-11-14T18:38:23.309437Z",
          "shell.execute_reply": "2021-11-14T18:38:23.316421Z"
        },
        "trusted": true,
        "id": "ZxfJr6vx0ngn"
      },
      "source": [
        "model = tf.keras.Model(inputs, outputs)"
      ],
      "execution_count": null,
      "outputs": []
    },
    {
      "cell_type": "code",
      "metadata": {
        "execution": {
          "iopub.status.busy": "2021-11-14T18:38:23.318435Z",
          "iopub.execute_input": "2021-11-14T18:38:23.319844Z",
          "iopub.status.idle": "2021-11-14T18:38:23.334582Z",
          "shell.execute_reply.started": "2021-11-14T18:38:23.319803Z",
          "shell.execute_reply": "2021-11-14T18:38:23.333766Z"
        },
        "trusted": true,
        "id": "0Id337CW0ngn",
        "outputId": "c105de79-3098-4ced-df81-8e6c4eec9d5c"
      },
      "source": [
        "model.compile(optimizer=tf.keras.optimizers.Adam(),\n",
        "              loss=tf.keras.losses.CategoricalCrossentropy(),\n",
        "              metrics=['accuracy'])\n",
        "\n",
        "model.summary()"
      ],
      "execution_count": null,
      "outputs": [
        {
          "name": "stdout",
          "text": "Model: \"model_1\"\n_________________________________________________________________\nLayer (type)                 Output Shape              Param #   \n=================================================================\ninput_1 (InputLayer)         [(None, 227, 227, 3)]     0         \n_________________________________________________________________\nmodel (Functional)           (None, 512)               115026304 \n_________________________________________________________________\ndense2 (Dense)               (None, 2)                 1026      \n=================================================================\nTotal params: 115,027,330\nTrainable params: 114,396,290\nNon-trainable params: 631,040\n_________________________________________________________________\n",
          "output_type": "stream"
        }
      ]
    },
    {
      "cell_type": "markdown",
      "metadata": {
        "id": "NJnN8DzR0ngn"
      },
      "source": [
        "### Introduce early stopping to ensure model does not overfit, since this dataset is very small compared to the celebA dataset"
      ]
    },
    {
      "cell_type": "code",
      "metadata": {
        "execution": {
          "iopub.status.busy": "2021-11-14T18:38:23.335977Z",
          "iopub.execute_input": "2021-11-14T18:38:23.336782Z",
          "iopub.status.idle": "2021-11-14T18:40:40.584498Z",
          "shell.execute_reply.started": "2021-11-14T18:38:23.336742Z",
          "shell.execute_reply": "2021-11-14T18:40:40.583709Z"
        },
        "trusted": true,
        "id": "a_85gpC_0ngn",
        "outputId": "003a3af8-62be-4549-8a54-b1b99835e27e"
      },
      "source": [
        "callback = tf.keras.callbacks.EarlyStopping(monitor='val_loss', patience=2)\n",
        "epochs=15\n",
        "\n",
        "history = model.fit(train_images, y_train_one_hot, validation_data=(test_images, y_test_one_hot), epochs=epochs, batch_size=32, verbose=2, callbacks=[callback])"
      ],
      "execution_count": null,
      "outputs": [
        {
          "name": "stderr",
          "text": "2021-11-14 18:38:23.342525: W tensorflow/core/framework/cpu_allocator_impl.cc:80] Allocation of 1888434792 exceeds 10% of free system memory.\n2021-11-14 18:38:25.299267: W tensorflow/core/framework/cpu_allocator_impl.cc:80] Allocation of 1888434792 exceeds 10% of free system memory.\n2021-11-14 18:38:26.952371: I tensorflow/compiler/mlir/mlir_graph_optimization_pass.cc:185] None of the MLIR Optimization Passes are enabled (registered 2)\n",
          "output_type": "stream"
        },
        {
          "name": "stdout",
          "text": "Epoch 1/15\n",
          "output_type": "stream"
        },
        {
          "name": "stderr",
          "text": "2021-11-14 18:38:28.462675: I tensorflow/stream_executor/cuda/cuda_dnn.cc:369] Loaded cuDNN version 8005\n2021-11-14 18:39:00.847699: W tensorflow/core/framework/cpu_allocator_impl.cc:80] Allocation of 809417532 exceeds 10% of free system memory.\n2021-11-14 18:39:01.733294: W tensorflow/core/framework/cpu_allocator_impl.cc:80] Allocation of 809417532 exceeds 10% of free system memory.\n",
          "output_type": "stream"
        },
        {
          "name": "stdout",
          "text": "382/382 - 44s - loss: 0.5028 - accuracy: 0.7475 - val_loss: 0.3373 - val_accuracy: 0.8510\nEpoch 2/15\n382/382 - 30s - loss: 0.2411 - accuracy: 0.8982 - val_loss: 0.2681 - val_accuracy: 0.8875\nEpoch 3/15\n382/382 - 30s - loss: 0.1236 - accuracy: 0.9536 - val_loss: 0.3088 - val_accuracy: 0.8944\nEpoch 4/15\n382/382 - 30s - loss: 0.0620 - accuracy: 0.9796 - val_loss: 0.3894 - val_accuracy: 0.8951\n",
          "output_type": "stream"
        }
      ]
    },
    {
      "cell_type": "markdown",
      "metadata": {
        "id": "UjVr1yCR0ngn"
      },
      "source": [
        "### Unfreeze base model"
      ]
    },
    {
      "cell_type": "code",
      "metadata": {
        "execution": {
          "iopub.status.busy": "2021-11-14T18:40:40.588038Z",
          "iopub.execute_input": "2021-11-14T18:40:40.588262Z",
          "iopub.status.idle": "2021-11-14T18:40:40.599088Z",
          "shell.execute_reply.started": "2021-11-14T18:40:40.588234Z",
          "shell.execute_reply": "2021-11-14T18:40:40.597792Z"
        },
        "trusted": true,
        "id": "syRG-rBC0ngo",
        "outputId": "e3db90c1-310b-486d-9569-4b719d39c7f6"
      },
      "source": [
        "base_model_no_top.trainable = True\n",
        "model.summary()"
      ],
      "execution_count": null,
      "outputs": [
        {
          "name": "stdout",
          "text": "Model: \"model_1\"\n_________________________________________________________________\nLayer (type)                 Output Shape              Param #   \n=================================================================\ninput_1 (InputLayer)         [(None, 227, 227, 3)]     0         \n_________________________________________________________________\nmodel (Functional)           (None, 512)               115026304 \n_________________________________________________________________\ndense2 (Dense)               (None, 2)                 1026      \n=================================================================\nTotal params: 115,027,330\nTrainable params: 115,025,858\nNon-trainable params: 1,472\n_________________________________________________________________\n",
          "output_type": "stream"
        }
      ]
    },
    {
      "cell_type": "markdown",
      "metadata": {
        "id": "NNq1GAb70ngo"
      },
      "source": [
        "### Fine tune with low learning rate"
      ]
    },
    {
      "cell_type": "code",
      "metadata": {
        "execution": {
          "iopub.status.busy": "2021-11-14T18:40:40.602202Z",
          "iopub.execute_input": "2021-11-14T18:40:40.602489Z",
          "iopub.status.idle": "2021-11-14T18:44:05.419051Z",
          "shell.execute_reply.started": "2021-11-14T18:40:40.602451Z",
          "shell.execute_reply": "2021-11-14T18:44:05.418231Z"
        },
        "trusted": true,
        "id": "e2mv8y4S0ngo",
        "outputId": "9e3d8b32-7eac-4039-e7f9-b9f678179b73"
      },
      "source": [
        "callback = tf.keras.callbacks.EarlyStopping(monitor='val_loss', patience=2)\n",
        "\n",
        "model.compile(optimizer=tf.keras.optimizers.Adam(1e-5),\n",
        "              loss=tf.keras.losses.CategoricalCrossentropy(),\n",
        "              metrics=['accuracy'])\n",
        "\n",
        "epochs=10\n",
        "\n",
        "history = model.fit(train_images, y_train_one_hot, validation_data=(test_images, y_test_one_hot), epochs=epochs, batch_size=32, verbose=2, callbacks=[callback])"
      ],
      "execution_count": null,
      "outputs": [
        {
          "name": "stderr",
          "text": "2021-11-14 18:40:40.615378: W tensorflow/core/framework/cpu_allocator_impl.cc:80] Allocation of 1888434792 exceeds 10% of free system memory.\n",
          "output_type": "stream"
        },
        {
          "name": "stdout",
          "text": "Epoch 1/10\n382/382 - 67s - loss: 0.0318 - accuracy: 0.9904 - val_loss: 0.3864 - val_accuracy: 0.8959\nEpoch 2/10\n382/382 - 64s - loss: 0.0242 - accuracy: 0.9930 - val_loss: 0.3918 - val_accuracy: 0.8982\nEpoch 3/10\n382/382 - 64s - loss: 0.0205 - accuracy: 0.9944 - val_loss: 0.3999 - val_accuracy: 0.8971\n",
          "output_type": "stream"
        }
      ]
    },
    {
      "cell_type": "code",
      "metadata": {
        "execution": {
          "iopub.status.busy": "2021-11-14T18:44:05.420922Z",
          "iopub.execute_input": "2021-11-14T18:44:05.421232Z",
          "iopub.status.idle": "2021-11-14T18:44:13.910852Z",
          "shell.execute_reply.started": "2021-11-14T18:44:05.421180Z",
          "shell.execute_reply": "2021-11-14T18:44:13.910102Z"
        },
        "trusted": true,
        "id": "aQVfqB9l0ngo",
        "outputId": "db3246a4-9281-4718-f2a9-56d572031ca7"
      },
      "source": [
        "acc = history.history['accuracy']\n",
        "val_acc = history.history['val_accuracy']\n",
        "\n",
        "loss = history.history['loss']\n",
        "val_loss = history.history['val_loss']\n",
        "\n",
        "plt.figure(figsize=(8, 8))\n",
        "plt.subplot(2, 1, 1)\n",
        "plt.plot(acc, label='Training Accuracy')\n",
        "plt.plot(val_acc, label='Validation Accuracy')\n",
        "plt.legend(loc='lower right')\n",
        "plt.ylabel('Accuracy')\n",
        "plt.title('Training and Validation Accuracy')\n",
        "\n",
        "plt.subplot(2, 1, 2)\n",
        "plt.plot(loss, label='Training Loss')\n",
        "plt.plot(val_loss, label='Validation Loss')\n",
        "plt.legend(loc='upper right')\n",
        "plt.ylabel('Cross Entropy')\n",
        "plt.title('Training and Validation Loss')\n",
        "plt.xlabel('epoch')\n",
        "plt.show()"
      ],
      "execution_count": null,
      "outputs": [
        {
          "output_type": "display_data",
          "data": {
            "text/plain": "<Figure size 576x576 with 2 Axes>",
            "image/png": "[encoded data removed]"
          },
          "metadata": {
            "needs_background": "light"
          }
        }
      ]
    },
    {
      "cell_type": "markdown",
      "metadata": {
        "id": "pCgDV-9p0ngp"
      },
      "source": [
        "### Save Fine Tuned model"
      ]
    },
    {
      "cell_type": "code",
      "metadata": {
        "execution": {
          "iopub.status.busy": "2021-11-14T18:46:01.161250Z",
          "iopub.execute_input": "2021-11-14T18:46:01.162134Z",
          "iopub.status.idle": "2021-11-14T18:46:05.478553Z",
          "shell.execute_reply.started": "2021-11-14T18:46:01.162091Z",
          "shell.execute_reply": "2021-11-14T18:46:05.477522Z"
        },
        "trusted": true,
        "id": "sWlA1qaH0ngp"
      },
      "source": [
        "# import pickle\n",
        "# model.save('celebA_finetuned.h5')\n",
        "# with open('celebA_finetuned.pkl','wb') as f:\n",
        "#   pickle.dump(history.history, f) "
      ],
      "execution_count": null,
      "outputs": []
    },
    {
      "cell_type": "markdown",
      "metadata": {
        "id": "1V6Us9w30ngp"
      },
      "source": [
        "### Load Fine Tuned model"
      ]
    },
    {
      "cell_type": "code",
      "metadata": {
        "id": "1m50fQ6O0ngp"
      },
      "source": [
        "# import pickle\n",
        "# model_path = '/kaggle/input/celeba/celebA_finetuned.h5'\n",
        "\n",
        "# model = load_model(model_path)"
      ],
      "execution_count": null,
      "outputs": []
    },
    {
      "cell_type": "markdown",
      "metadata": {
        "id": "M5rXjII-0ngp"
      },
      "source": [
        "### Performance evaluation"
      ]
    },
    {
      "cell_type": "code",
      "metadata": {
        "execution": {
          "iopub.status.busy": "2021-11-14T18:47:00.686306Z",
          "iopub.execute_input": "2021-11-14T18:47:00.687211Z",
          "iopub.status.idle": "2021-11-14T18:47:12.865195Z",
          "shell.execute_reply.started": "2021-11-14T18:47:00.687168Z",
          "shell.execute_reply": "2021-11-14T18:47:12.864379Z"
        },
        "trusted": true,
        "id": "W9cHaFS70ngp"
      },
      "source": [
        "y_pred = model.predict(test_images)\n",
        "proba = y_pred.max(axis=1).reshape(-1, 1)\n",
        "y_proba_positive = y_pred[:,1:]\n",
        "y_pred_one_hot = np.where(y_pred == proba, 1, 0)\n",
        "y_pred_int = [np.where(r==1)[0][0] for r in y_pred_one_hot]\n",
        "\n",
        "y_true = [np.where(r==1)[0][0] for r in y_test_one_hot]"
      ],
      "execution_count": null,
      "outputs": []
    },
    {
      "cell_type": "markdown",
      "metadata": {
        "id": "ungKnNh60ngp"
      },
      "source": [
        "### F1, Precision, Recall"
      ]
    },
    {
      "cell_type": "code",
      "metadata": {
        "execution": {
          "iopub.status.busy": "2021-11-14T18:47:36.436152Z",
          "iopub.execute_input": "2021-11-14T18:47:36.436664Z",
          "iopub.status.idle": "2021-11-14T18:47:37.050186Z",
          "shell.execute_reply.started": "2021-11-14T18:47:36.436623Z",
          "shell.execute_reply": "2021-11-14T18:47:37.049383Z"
        },
        "trusted": true,
        "id": "YVRMlxie0ngp"
      },
      "source": [
        "from sklearn.metrics import accuracy_score\n",
        "from sklearn.metrics import precision_score\n",
        "from sklearn.metrics import recall_score\n",
        "from sklearn.metrics import f1_score\n",
        "from sklearn.metrics import roc_auc_score\n",
        "from sklearn.metrics import confusion_matrix\n",
        "from sklearn.metrics import average_precision_score"
      ],
      "execution_count": null,
      "outputs": []
    },
    {
      "cell_type": "code",
      "metadata": {
        "execution": {
          "iopub.status.busy": "2021-11-14T18:47:44.039105Z",
          "iopub.execute_input": "2021-11-14T18:47:44.040062Z",
          "iopub.status.idle": "2021-11-14T18:47:44.112741Z",
          "shell.execute_reply.started": "2021-11-14T18:47:44.040008Z",
          "shell.execute_reply": "2021-11-14T18:47:44.111883Z"
        },
        "trusted": true,
        "id": "LX683Ix00ngp",
        "outputId": "8f3c5f7b-9313-4ec4-b1e3-056b5928fefe"
      },
      "source": [
        "accuracy = accuracy_score(y_true, y_pred_int)\n",
        "print('Accuracy: %f' % accuracy)\n",
        "# precision tp / (tp + fp)\n",
        "precision = precision_score(y_true, y_pred_int)\n",
        "print('Precision: %f' % precision)\n",
        "# recall: tp / (tp + fn)\n",
        "recall = recall_score(y_true, y_pred_int)\n",
        "print('Recall: %f' % recall)\n",
        "# f1: 2 tp / (2 tp + fp + fn)\n",
        "f1 = f1_score(y_true, y_pred_int)\n",
        "print('F1 score: %f' % f1)\n",
        "\n",
        "# ROC AUC\n",
        "auc = roc_auc_score(y_true, y_proba_positive.flatten())\n",
        "print('ROC AUC: %f' % auc)\n",
        "# confusion matrix\n",
        "matrix = confusion_matrix(y_true, y_pred_int)\n",
        "print(matrix)"
      ],
      "execution_count": null,
      "outputs": [
        {
          "name": "stdout",
          "text": "Accuracy: 0.897059\nPrecision: 0.900041\nRecall: 0.881621\nF1 score: 0.890736\nROC AUC: 0.962833\n[[2500  244]\n [ 295 2197]]\n",
          "output_type": "stream"
        }
      ]
    },
    {
      "cell_type": "markdown",
      "metadata": {
        "id": "Y8W0ZeYw0ngp"
      },
      "source": [
        "### Confusion Matrix - Train"
      ]
    },
    {
      "cell_type": "code",
      "metadata": {
        "execution": {
          "iopub.status.busy": "2021-11-14T18:48:14.071274Z",
          "iopub.execute_input": "2021-11-14T18:48:14.071881Z",
          "iopub.status.idle": "2021-11-14T18:48:14.108821Z",
          "shell.execute_reply.started": "2021-11-14T18:48:14.071837Z",
          "shell.execute_reply": "2021-11-14T18:48:14.108044Z"
        },
        "trusted": true,
        "id": "NLrM6Wyv0ngp",
        "outputId": "23968e93-1748-427e-fe28-93f448998dc1"
      },
      "source": [
        "con_mat = tf.math.confusion_matrix(labels=y_true, predictions=y_pred_int,num_classes=2).numpy()\n",
        "con_mat"
      ],
      "execution_count": null,
      "outputs": [
        {
          "execution_count": 18,
          "output_type": "execute_result",
          "data": {
            "text/plain": "array([[2500,  244],\n       [ 295, 2197]], dtype=int32)"
          },
          "metadata": {}
        }
      ]
    },
    {
      "cell_type": "code",
      "metadata": {
        "execution": {
          "iopub.status.busy": "2021-11-14T18:48:28.790810Z",
          "iopub.execute_input": "2021-11-14T18:48:28.791604Z",
          "iopub.status.idle": "2021-11-14T18:48:28.803285Z",
          "shell.execute_reply.started": "2021-11-14T18:48:28.791563Z",
          "shell.execute_reply": "2021-11-14T18:48:28.802384Z"
        },
        "trusted": true,
        "id": "WfBUo9zF0ngp"
      },
      "source": [
        "classes=['male','female']\n",
        "\n",
        "con_mat_norm = np.around(con_mat.astype('float') / con_mat.sum(axis=1)[:, np.newaxis], decimals=2)\n",
        "\n",
        "con_mat_df = pd.DataFrame(con_mat_norm,\n",
        "                     index = classes, \n",
        "                     columns = classes)"
      ],
      "execution_count": null,
      "outputs": []
    },
    {
      "cell_type": "code",
      "metadata": {
        "execution": {
          "iopub.status.busy": "2021-11-14T18:48:57.944799Z",
          "iopub.execute_input": "2021-11-14T18:48:57.945650Z",
          "iopub.status.idle": "2021-11-14T18:48:58.369376Z",
          "shell.execute_reply.started": "2021-11-14T18:48:57.945609Z",
          "shell.execute_reply": "2021-11-14T18:48:58.368608Z"
        },
        "trusted": true,
        "id": "v1RlkbaD0ngq",
        "outputId": "380e6d41-3b73-4432-a1e7-099288395c7a"
      },
      "source": [
        "import seaborn as sns\n",
        "figure = plt.figure(figsize=(8, 8))\n",
        "sns.heatmap(con_mat_df, annot=True,cmap=plt.cm.Blues,)\n",
        "plt.tight_layout()\n",
        "plt.ylabel('True label')\n",
        "plt.xlabel('Predicted label')\n",
        "plt.show()"
      ],
      "execution_count": null,
      "outputs": [
        {
          "output_type": "display_data",
          "data": {
            "text/plain": "<Figure size 576x576 with 2 Axes>",
            "image/png": "[encoded data removed]"
          },
          "metadata": {
            "needs_background": "light"
          }
        }
      ]
    },
    {
      "cell_type": "markdown",
      "metadata": {
        "id": "W7FB7ooB0ngq"
      },
      "source": [
        "### ROC Curve"
      ]
    },
    {
      "cell_type": "code",
      "metadata": {
        "execution": {
          "iopub.status.busy": "2021-11-14T18:49:38.200068Z",
          "iopub.execute_input": "2021-11-14T18:49:38.200370Z",
          "iopub.status.idle": "2021-11-14T18:49:38.210224Z",
          "shell.execute_reply.started": "2021-11-14T18:49:38.200333Z",
          "shell.execute_reply": "2021-11-14T18:49:38.209371Z"
        },
        "trusted": true,
        "id": "K6uFIQGJ0ngq"
      },
      "source": [
        "from sklearn.metrics import roc_curve,roc_auc_score\n",
        "fpr , tpr , thresholds = roc_curve (y_true , y_proba_positive.flatten())"
      ],
      "execution_count": null,
      "outputs": []
    },
    {
      "cell_type": "code",
      "metadata": {
        "execution": {
          "iopub.status.busy": "2021-11-14T18:49:46.036851Z",
          "iopub.execute_input": "2021-11-14T18:49:46.037633Z",
          "iopub.status.idle": "2021-11-14T18:49:46.264271Z",
          "shell.execute_reply.started": "2021-11-14T18:49:46.037592Z",
          "shell.execute_reply": "2021-11-14T18:49:46.263566Z"
        },
        "trusted": true,
        "id": "ay5UwA-40ngq",
        "outputId": "aa198aee-7cd7-4c4e-df64-77f34387d7ff"
      },
      "source": [
        "def plot_roc_curve(fpr, tpr):\n",
        "    \"\"\"\n",
        "    Plots a ROC curve given the false positve rate (fpr) and \n",
        "    true postive rate (tpr) of a classifier.\n",
        "    \"\"\"\n",
        "    # Plot ROC curve\n",
        "    figure = plt.figure(figsize=(12, 8))\n",
        "    plt.plot(fpr, tpr, color='orange', label='ROC')\n",
        "    # Plot line with no predictive power (baseline)\n",
        "    plt.plot([0, 1], [0, 1], color='darkblue', linestyle='--', label='Guessing')\n",
        "    # Customize the plot\n",
        "    plt.xlabel('False Positive Rate')\n",
        "    plt.ylabel('True Positive Rate')\n",
        "    plt.title('Receiver Operating Characteristic (ROC) Curve')\n",
        "    plt.legend()\n",
        "    plt.show()\n",
        "\n",
        "plot_roc_curve(fpr, tpr)"
      ],
      "execution_count": null,
      "outputs": [
        {
          "output_type": "display_data",
          "data": {
            "text/plain": "<Figure size 864x576 with 1 Axes>",
            "image/png": "[encoded data removed]"
          },
          "metadata": {
            "needs_background": "light"
          }
        }
      ]
    },
    {
      "cell_type": "markdown",
      "metadata": {
        "id": "fxCYmhqC0ngq"
      },
      "source": [
        "### Accuracy against epoch"
      ]
    },
    {
      "cell_type": "code",
      "metadata": {
        "execution": {
          "iopub.status.busy": "2021-11-14T18:51:16.734899Z",
          "iopub.execute_input": "2021-11-14T18:51:16.735797Z",
          "iopub.status.idle": "2021-11-14T18:51:16.960266Z",
          "shell.execute_reply.started": "2021-11-14T18:51:16.735738Z",
          "shell.execute_reply": "2021-11-14T18:51:16.959551Z"
        },
        "trusted": true,
        "id": "MRAjWBa-0ngq",
        "outputId": "f697a3f2-7530-4ad6-bd73-771fe0d55c5b"
      },
      "source": [
        "# Plot accuracies of training and test data\n",
        "plt.figure(figsize=(10,5))\n",
        "plt.plot(history.history['accuracy'])\n",
        "plt.plot(history.history['val_accuracy'])\n",
        "plt.title('model accuracy')\n",
        "plt.ylabel('accuracy')\n",
        "plt.xlabel('epoch')\n",
        "plt.legend(['train', 'test'], loc='best')\n",
        "plt.show();"
      ],
      "execution_count": null,
      "outputs": [
        {
          "output_type": "display_data",
          "data": {
            "text/plain": "<Figure size 720x360 with 1 Axes>",
            "image/png": "[encoded data removed]"
          },
          "metadata": {
            "needs_background": "light"
          }
        }
      ]
    },
    {
      "cell_type": "code",
      "metadata": {
        "execution": {
          "iopub.status.busy": "2021-11-14T18:51:41.700578Z",
          "iopub.execute_input": "2021-11-14T18:51:41.701590Z",
          "iopub.status.idle": "2021-11-14T18:51:41.936489Z",
          "shell.execute_reply.started": "2021-11-14T18:51:41.701531Z",
          "shell.execute_reply": "2021-11-14T18:51:41.935609Z"
        },
        "trusted": true,
        "id": "pXFBRKe00ngq",
        "outputId": "91e282fe-7abd-4f06-80fb-39ad98812a39"
      },
      "source": [
        "# Plot losses of training and test data\n",
        "plt.figure(figsize=(10,5))\n",
        "plt.plot(history.history['loss'])\n",
        "plt.plot(history.history['val_loss'])\n",
        "plt.title('model loss')\n",
        "plt.ylabel('loss')\n",
        "plt.xlabel('epoch')\n",
        "plt.legend(['train', 'test'], loc='best')\n",
        "plt.show();"
      ],
      "execution_count": null,
      "outputs": [
        {
          "output_type": "display_data",
          "data": {
            "text/plain": "<Figure size 720x360 with 1 Axes>",
            "image/png": "[encoded data removed]"
          },
          "metadata": {
            "needs_background": "light"
          }
        }
      ]
    },
    {
      "cell_type": "code",
      "metadata": {
        "id": "er8DMYAU0ngq"
      },
      "source": [
        ""
      ],
      "execution_count": null,
      "outputs": []
    }
  ]
}